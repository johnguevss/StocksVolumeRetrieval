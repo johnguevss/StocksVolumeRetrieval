{
 "cells": [
  {
   "cell_type": "code",
   "execution_count": null,
   "metadata": {},
   "outputs": [],
   "source": [
    "import requests\n",
    "import os\n",
    "import pandas as pd\n",
    "import numpy as np\n",
    "from pandas.io.json import json_normalize\n",
    "import datetime\n",
    "\n",
    "# set vals\n",
    "STOCK_ENDPOINT = \"https://www.alphavantage.co/query\"\n",
    "ALPHAVANTAGE_KEY = os.environ.get(\"ALPHA_KEY\")\n",
    "STOCK = \"TSLA\"\n",
    "YEAR_THRESHOLD = 4"
   ]
  },
  {
   "cell_type": "code",
   "execution_count": null,
   "metadata": {},
   "outputs": [],
   "source": [
    "# TODO 1: Connect to alphavantage API and retrieve stock data\n",
    "alpha_param = {\n",
    "    \"function\": \"TIME_SERIES_WEEKLY\",\n",
    "    \"symbol\": STOCK,\n",
    "    \"apikey\": ALPHAVANTAGE_KEY,\n",
    "    \"datatype\": \"json\"\n",
    "}\n",
    "\n",
    "response = requests.get(STOCK_ENDPOINT, params=alpha_param)\n",
    "data = response.json()"
   ]
  },
  {
   "cell_type": "code",
   "execution_count": null,
   "metadata": {},
   "outputs": [],
   "source": [
    "# TODO 2: From the response, create a dataframe that contains year and volume\n",
    "weekly_df = pd.DataFrame.from_dict(data['Weekly Time Series'], \n",
    "                                    orient='index', \n",
    "                                    columns=['5. volume']\n",
    "                                    )\n",
    "\n",
    "clean_weekly_df = weekly_df.reset_index(names='date')\\\n",
    "                            .rename(columns={'5. volume':'volume'})\n",
    "\n",
    "# add year column\n",
    "clean_weekly_df['YEAR'] = clean_weekly_df['date'].str[0:4]\\\n",
    "                                                       .astype(int)\n",
    "# set datatype\n",
    "clean_weekly_df['volume'] = clean_weekly_df['volume'].astype(float)\n",
    "# print(clean_weekly_df.info())"
   ]
  },
  {
   "cell_type": "code",
   "execution_count": null,
   "metadata": {},
   "outputs": [],
   "source": [
    "# TODO 3: Get the average volume per year for the past 5 years for the selected stock\n",
    "\n",
    "# get current year\n",
    "year_filter = int(datetime.date.today().year)-YEAR_THRESHOLD\n",
    "\n",
    "# filter, aggregate and fix schema\n",
    "vol_by_year_df = clean_weekly_df.query(f'YEAR >= {year_filter}')\\\n",
    "                                .groupby('YEAR').mean()\\\n",
    "                                .rename(columns = {\"volume\":\"AVERAGE_VOLUME\"})\\\n",
    "                                .assign(STOCK=STOCK)\\\n",
    "                                .reset_index()\n",
    "# print(vol_by_year_df)"
   ]
  },
  {
   "cell_type": "code",
   "execution_count": null,
   "metadata": {},
   "outputs": [],
   "source": [
    "# TODO 4:output the df into a csv file with columns STOCK, YEAR, AVERAGE_VOLUME\n",
    "vol_by_year_df[['STOCK', 'YEAR','AVERAGE_VOLUME']].to_csv(f\"{STOCK}_average_vol_per_year.csv\", index=False)"
   ]
  }
 ],
 "metadata": {
  "kernelspec": {
   "display_name": "venv",
   "language": "python",
   "name": "python3"
  },
  "language_info": {
   "codemirror_mode": {
    "name": "ipython",
    "version": 3
   },
   "file_extension": ".py",
   "mimetype": "text/x-python",
   "name": "python",
   "nbconvert_exporter": "python",
   "pygments_lexer": "ipython3",
   "version": "3.10.4"
  },
  "orig_nbformat": 4,
  "vscode": {
   "interpreter": {
    "hash": "86a0470aadccd8e10cca11dbc186002353de17397bf835c6988d2ce66b43e7e0"
   }
  }
 },
 "nbformat": 4,
 "nbformat_minor": 2
}
