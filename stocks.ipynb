{
 "cells": [
  {
   "cell_type": "code",
   "execution_count": 1,
   "metadata": {},
   "outputs": [],
   "source": [
    "import requests\n",
    "import os\n",
    "import pandas as pd\n",
    "from pandas.io.json import json_normalize"
   ]
  },
  {
   "cell_type": "code",
   "execution_count": 4,
   "metadata": {},
   "outputs": [
    {
     "name": "stdout",
     "output_type": "stream",
     "text": [
      "{'Error Message': 'the parameter apikey is invalid or missing. Please claim your free API key on (https://www.alphavantage.co/support/#api-key). It should take less than 20 seconds.'}\n"
     ]
    }
   ],
   "source": [
    "# TODO 1: Connect to alphavantage API and retrieve stock data\n",
    "STOCK_ENDPOINT = \"https://www.alphavantage.co/query\"\n",
    "ALPHAVANTAGE_KEY = os.environ.get(\"ALPHA_KEY\")\n",
    "STOCK = \"TSLA\"\n",
    "\n",
    "alpha_param = {\n",
    "    \"function\": \"TIME_SERIES_MONTHLY\",\n",
    "    \"symbol\": STOCK,\n",
    "    \"apikey\": ALPHAVANTAGE_KEY\n",
    "}\n",
    "\n",
    "response = requests.get(STOCK_ENDPOINT, params=alpha_param)\n",
    "data = response.json()\n",
    "print(data)"
   ]
  },
  {
   "cell_type": "code",
   "execution_count": 3,
   "metadata": {},
   "outputs": [
    {
     "ename": "KeyError",
     "evalue": "'Monthly Time Series'",
     "output_type": "error",
     "traceback": [
      "\u001b[1;31m---------------------------------------------------------------------------\u001b[0m",
      "\u001b[1;31mKeyError\u001b[0m                                  Traceback (most recent call last)",
      "Cell \u001b[1;32mIn[3], line 2\u001b[0m\n\u001b[0;32m      1\u001b[0m \u001b[39m# TODO 2: From the response, get the volume of Tesla stock\u001b[39;00m\n\u001b[1;32m----> 2\u001b[0m monthly_data \u001b[39m=\u001b[39m pd\u001b[39m.\u001b[39mDataFrame(data[\u001b[39m'\u001b[39;49m\u001b[39mMonthly Time Series\u001b[39;49m\u001b[39m'\u001b[39;49m])\n\u001b[0;32m      3\u001b[0m \u001b[39mprint\u001b[39m(monthly_data\u001b[39m.\u001b[39mhead())\n\u001b[0;32m      4\u001b[0m \u001b[39mprint\u001b[39m(monthly_data\u001b[39m.\u001b[39minfo())\n",
      "\u001b[1;31mKeyError\u001b[0m: 'Monthly Time Series'"
     ]
    }
   ],
   "source": [
    "# TODO 2: From the response, get the volume of Tesla stock\n",
    "monthly_data = pd.DataFrame(data['Monthly Time Series'])\n",
    "print(monthly_data.head())\n",
    "print(monthly_data.info())"
   ]
  },
  {
   "cell_type": "code",
   "execution_count": null,
   "metadata": {},
   "outputs": [],
   "source": [
    "# TODO 3: Get the average volume per year, output columns should be STOCK, YEAR, AVERAGE_VOLUME"
   ]
  }
 ],
 "metadata": {
  "kernelspec": {
   "display_name": "venv",
   "language": "python",
   "name": "python3"
  },
  "language_info": {
   "codemirror_mode": {
    "name": "ipython",
    "version": 3
   },
   "file_extension": ".py",
   "mimetype": "text/x-python",
   "name": "python",
   "nbconvert_exporter": "python",
   "pygments_lexer": "ipython3",
   "version": "3.10.4"
  },
  "orig_nbformat": 4,
  "vscode": {
   "interpreter": {
    "hash": "86a0470aadccd8e10cca11dbc186002353de17397bf835c6988d2ce66b43e7e0"
   }
  }
 },
 "nbformat": 4,
 "nbformat_minor": 2
}
